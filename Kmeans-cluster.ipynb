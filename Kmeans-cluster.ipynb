{
 "cells": [
  {
   "cell_type": "markdown",
   "metadata": {},
   "source": [
    "## Step 1. Load the Data"
   ]
  },
  {
   "cell_type": "code",
   "execution_count": 1,
   "metadata": {},
   "outputs": [],
   "source": [
    "import pandas as pd\n",
    "\n",
    "file_path = r'C:\\Users\\user\\Downloads\\2024 솔챌\\유투브영상수집.xlsx'\n",
    "df = pd.read_excel(file_path)\n"
   ]
  },
  {
   "cell_type": "code",
   "execution_count": 2,
   "metadata": {},
   "outputs": [],
   "source": [
    "#pip install openpyxl"
   ]
  },
  {
   "cell_type": "markdown",
   "metadata": {},
   "source": [
    "## Step 2. Define Input Processing"
   ]
  },
  {
   "cell_type": "code",
   "execution_count": 3,
   "metadata": {},
   "outputs": [],
   "source": [
    "# List of all emotion and event columns in the dataset\n",
    "emotion_columns = ['angry', 'sad', 'anxious', 'hurt', 'embarrassed', 'happy']\n",
    "event_columns = ['relationship', 'breakup', 'family', 'work', 'studying', 'insomnia', 'people', 'health', 'self-esteem', 'money', 'friends']\n",
    "\n",
    "# Function to concatenate applicable tags for each video\n",
    "def create_tags(row):\n",
    "    tags = []\n",
    "    for col in emotion_columns + event_columns:\n",
    "        if row[col] == 1:  \n",
    "            tags.append(col)\n",
    "    return ' '.join(tags) \n",
    "\n",
    "df['tags'] = df.apply(create_tags, axis=1)"
   ]
  },
  {
   "cell_type": "markdown",
   "metadata": {},
   "source": [
    "## Step 3. Implement the Recommendation Logic"
   ]
  },
  {
   "cell_type": "code",
   "execution_count": 4,
   "metadata": {},
   "outputs": [],
   "source": [
    "from sklearn.feature_extraction.text import CountVectorizer\n",
    "from sklearn.cluster import KMeans"
   ]
  },
  {
   "cell_type": "code",
   "execution_count": 19,
   "metadata": {},
   "outputs": [
    {
     "name": "stderr",
     "output_type": "stream",
     "text": [
      "c:\\Users\\user\\.conda\\envs\\AI_2023\\lib\\site-packages\\sklearn\\cluster\\_kmeans.py:1416: FutureWarning: The default value of `n_init` will change from 10 to 'auto' in 1.4. Set the value of `n_init` explicitly to suppress the warning\n",
      "  super()._check_params_vs_input(X, default_n_init=10)\n"
     ]
    }
   ],
   "source": [
    "# 영상에 클러스터 라벨링 \n",
    "vectorizer = CountVectorizer()\n",
    "X = vectorizer.fit_transform(df['tags'])\n",
    "kmeans = KMeans(n_clusters=6)\n",
    "kmeans.fit(X)\n",
    "df['cluster'] = kmeans.labels_"
   ]
  },
  {
   "cell_type": "code",
   "execution_count": 8,
   "metadata": {},
   "outputs": [
    {
     "data": {
      "text/plain": [
       "0     5\n",
       "1     5\n",
       "2     5\n",
       "3     5\n",
       "4     5\n",
       "     ..\n",
       "84    4\n",
       "85    4\n",
       "86    4\n",
       "87    4\n",
       "88    3\n",
       "Name: cluster, Length: 89, dtype: int32"
      ]
     },
     "execution_count": 8,
     "metadata": {},
     "output_type": "execute_result"
    }
   ],
   "source": [
    "df['cluster']"
   ]
  },
  {
   "cell_type": "code",
   "execution_count": 20,
   "metadata": {},
   "outputs": [],
   "source": [
    "from sklearn.feature_extraction.text import TfidfVectorizer\n",
    "from sklearn.metrics.pairwise import euclidean_distances\n",
    "import numpy as np\n",
    "\n",
    "# 입력 태그를 벡터화\n",
    "def vectorize_input_tags(input_tags, vectorizer): \n",
    "\n",
    "    return vectorizer.transform([\" \".join(input_tags)])\n",
    "\n",
    "# 입력 벡터와 각 클러스터 중심과의 유클리드 거리 계산\n",
    "def calculate_cluster_distances(input_vec, cluster_centers):\n",
    "\n",
    "    distances = euclidean_distances(input_vec, cluster_centers)\n",
    "    return distances.flatten()\n",
    "\n",
    "def recommend_clusters(input_tags, vectorizer, kmeans):\n",
    "\n",
    "    # 입력 태그 벡터화\n",
    "    input_vec = vectorize_input_tags(input_tags, vectorizer)\n",
    "    \n",
    "    # 클러스터 중심과의 거리 계산\n",
    "    distances = calculate_cluster_distances(input_vec, kmeans.cluster_centers_)\n",
    "    \n",
    "    # 거리에 기반한 유사성 점수 계산 \n",
    "    scores = 1 / (1 + distances)  \n",
    "    \n",
    "    # 클러스터 추클\n",
    "    recommended_cluster_indices = np.argsort(scores)[::-1] \n",
    "    \n",
    "    scores_dict = {cluster_index: scores[cluster_index] for cluster_index in recommended_cluster_indices if scores[cluster_index] > 0}\n",
    "\n",
    "    return scores_dict"
   ]
  },
  {
   "cell_type": "code",
   "execution_count": 21,
   "metadata": {},
   "outputs": [],
   "source": [
    "def recommend_videos(df, cluster_scores, kmeans):\n",
    "\n",
    "    recommend = []\n",
    "    for cluster_index in sorted(cluster_scores, key=cluster_scores.get, reverse=True):\n",
    "        # 클러스터에 속한 영상 필터링\n",
    "        cluster_videos = df[df['cluster'] == cluster_index]\n",
    "        \n",
    "        # 클러스터 중심과의 거리 계산\n",
    "        distances = calculate_cluster_distances(vectorizer.transform(cluster_videos['tags']), [kmeans.cluster_centers_[cluster_index]])\n",
    "        \n",
    "        # 거리에 따라 영상 정렬\n",
    "        cluster_videos['distance'] = distances\n",
    "        sorted_videos = cluster_videos.sort_values(by='distance')\n",
    "        \n",
    "        # 정렬된 영상 링크 추가\n",
    "        recommend.extend(sorted_videos['링크'].tolist())\n",
    "    \n",
    "    return recommend"
   ]
  },
  {
   "cell_type": "markdown",
   "metadata": {},
   "source": [
    "## Step 4. Apply the Algorithm"
   ]
  },
  {
   "cell_type": "code",
   "execution_count": 22,
   "metadata": {},
   "outputs": [
    {
     "name": "stdout",
     "output_type": "stream",
     "text": [
      "https://youtu.be/rX571wvjQcE?si=JboH280V13mFY32R\n",
      "https://youtu.be/wc9_eeKCeQw?si=N5OlT_xDVPLCud0V\n",
      "https://youtu.be/7XCx1XcVP5w?feature=shared\n",
      "https://youtu.be/BNEOKti4BkE?feature=shared\n",
      "https://youtu.be/0KfrNy4bUrU?feature=shared\n"
     ]
    },
    {
     "name": "stderr",
     "output_type": "stream",
     "text": [
      "C:\\Users\\user\\AppData\\Local\\Temp\\ipykernel_30304\\367042895.py:12: SettingWithCopyWarning: \n",
      "A value is trying to be set on a copy of a slice from a DataFrame.\n",
      "Try using .loc[row_indexer,col_indexer] = value instead\n",
      "\n",
      "See the caveats in the documentation: https://pandas.pydata.org/pandas-docs/stable/user_guide/indexing.html#returning-a-view-versus-a-copy\n",
      "  cluster_videos['distance'] = distances\n",
      "C:\\Users\\user\\AppData\\Local\\Temp\\ipykernel_30304\\367042895.py:12: SettingWithCopyWarning: \n",
      "A value is trying to be set on a copy of a slice from a DataFrame.\n",
      "Try using .loc[row_indexer,col_indexer] = value instead\n",
      "\n",
      "See the caveats in the documentation: https://pandas.pydata.org/pandas-docs/stable/user_guide/indexing.html#returning-a-view-versus-a-copy\n",
      "  cluster_videos['distance'] = distances\n",
      "C:\\Users\\user\\AppData\\Local\\Temp\\ipykernel_30304\\367042895.py:12: SettingWithCopyWarning: \n",
      "A value is trying to be set on a copy of a slice from a DataFrame.\n",
      "Try using .loc[row_indexer,col_indexer] = value instead\n",
      "\n",
      "See the caveats in the documentation: https://pandas.pydata.org/pandas-docs/stable/user_guide/indexing.html#returning-a-view-versus-a-copy\n",
      "  cluster_videos['distance'] = distances\n",
      "C:\\Users\\user\\AppData\\Local\\Temp\\ipykernel_30304\\367042895.py:12: SettingWithCopyWarning: \n",
      "A value is trying to be set on a copy of a slice from a DataFrame.\n",
      "Try using .loc[row_indexer,col_indexer] = value instead\n",
      "\n",
      "See the caveats in the documentation: https://pandas.pydata.org/pandas-docs/stable/user_guide/indexing.html#returning-a-view-versus-a-copy\n",
      "  cluster_videos['distance'] = distances\n",
      "C:\\Users\\user\\AppData\\Local\\Temp\\ipykernel_30304\\367042895.py:12: SettingWithCopyWarning: \n",
      "A value is trying to be set on a copy of a slice from a DataFrame.\n",
      "Try using .loc[row_indexer,col_indexer] = value instead\n",
      "\n",
      "See the caveats in the documentation: https://pandas.pydata.org/pandas-docs/stable/user_guide/indexing.html#returning-a-view-versus-a-copy\n",
      "  cluster_videos['distance'] = distances\n",
      "C:\\Users\\user\\AppData\\Local\\Temp\\ipykernel_30304\\367042895.py:12: SettingWithCopyWarning: \n",
      "A value is trying to be set on a copy of a slice from a DataFrame.\n",
      "Try using .loc[row_indexer,col_indexer] = value instead\n",
      "\n",
      "See the caveats in the documentation: https://pandas.pydata.org/pandas-docs/stable/user_guide/indexing.html#returning-a-view-versus-a-copy\n",
      "  cluster_videos['distance'] = distances\n",
      "C:\\Users\\user\\AppData\\Local\\Temp\\ipykernel_30304\\367042895.py:12: SettingWithCopyWarning: \n",
      "A value is trying to be set on a copy of a slice from a DataFrame.\n",
      "Try using .loc[row_indexer,col_indexer] = value instead\n",
      "\n",
      "See the caveats in the documentation: https://pandas.pydata.org/pandas-docs/stable/user_guide/indexing.html#returning-a-view-versus-a-copy\n",
      "  cluster_videos['distance'] = distances\n",
      "C:\\Users\\user\\AppData\\Local\\Temp\\ipykernel_30304\\367042895.py:12: SettingWithCopyWarning: \n",
      "A value is trying to be set on a copy of a slice from a DataFrame.\n",
      "Try using .loc[row_indexer,col_indexer] = value instead\n",
      "\n",
      "See the caveats in the documentation: https://pandas.pydata.org/pandas-docs/stable/user_guide/indexing.html#returning-a-view-versus-a-copy\n",
      "  cluster_videos['distance'] = distances\n",
      "C:\\Users\\user\\AppData\\Local\\Temp\\ipykernel_30304\\367042895.py:12: SettingWithCopyWarning: \n",
      "A value is trying to be set on a copy of a slice from a DataFrame.\n",
      "Try using .loc[row_indexer,col_indexer] = value instead\n",
      "\n",
      "See the caveats in the documentation: https://pandas.pydata.org/pandas-docs/stable/user_guide/indexing.html#returning-a-view-versus-a-copy\n",
      "  cluster_videos['distance'] = distances\n",
      "C:\\Users\\user\\AppData\\Local\\Temp\\ipykernel_30304\\367042895.py:12: SettingWithCopyWarning: \n",
      "A value is trying to be set on a copy of a slice from a DataFrame.\n",
      "Try using .loc[row_indexer,col_indexer] = value instead\n",
      "\n",
      "See the caveats in the documentation: https://pandas.pydata.org/pandas-docs/stable/user_guide/indexing.html#returning-a-view-versus-a-copy\n",
      "  cluster_videos['distance'] = distances\n",
      "C:\\Users\\user\\AppData\\Local\\Temp\\ipykernel_30304\\367042895.py:12: SettingWithCopyWarning: \n",
      "A value is trying to be set on a copy of a slice from a DataFrame.\n",
      "Try using .loc[row_indexer,col_indexer] = value instead\n",
      "\n",
      "See the caveats in the documentation: https://pandas.pydata.org/pandas-docs/stable/user_guide/indexing.html#returning-a-view-versus-a-copy\n",
      "  cluster_videos['distance'] = distances\n",
      "C:\\Users\\user\\AppData\\Local\\Temp\\ipykernel_30304\\367042895.py:12: SettingWithCopyWarning: \n",
      "A value is trying to be set on a copy of a slice from a DataFrame.\n",
      "Try using .loc[row_indexer,col_indexer] = value instead\n",
      "\n",
      "See the caveats in the documentation: https://pandas.pydata.org/pandas-docs/stable/user_guide/indexing.html#returning-a-view-versus-a-copy\n",
      "  cluster_videos['distance'] = distances\n",
      "C:\\Users\\user\\AppData\\Local\\Temp\\ipykernel_30304\\367042895.py:12: SettingWithCopyWarning: \n",
      "A value is trying to be set on a copy of a slice from a DataFrame.\n",
      "Try using .loc[row_indexer,col_indexer] = value instead\n",
      "\n",
      "See the caveats in the documentation: https://pandas.pydata.org/pandas-docs/stable/user_guide/indexing.html#returning-a-view-versus-a-copy\n",
      "  cluster_videos['distance'] = distances\n",
      "C:\\Users\\user\\AppData\\Local\\Temp\\ipykernel_30304\\367042895.py:12: SettingWithCopyWarning: \n",
      "A value is trying to be set on a copy of a slice from a DataFrame.\n",
      "Try using .loc[row_indexer,col_indexer] = value instead\n",
      "\n",
      "See the caveats in the documentation: https://pandas.pydata.org/pandas-docs/stable/user_guide/indexing.html#returning-a-view-versus-a-copy\n",
      "  cluster_videos['distance'] = distances\n",
      "C:\\Users\\user\\AppData\\Local\\Temp\\ipykernel_30304\\367042895.py:12: SettingWithCopyWarning: \n",
      "A value is trying to be set on a copy of a slice from a DataFrame.\n",
      "Try using .loc[row_indexer,col_indexer] = value instead\n",
      "\n",
      "See the caveats in the documentation: https://pandas.pydata.org/pandas-docs/stable/user_guide/indexing.html#returning-a-view-versus-a-copy\n",
      "  cluster_videos['distance'] = distances\n",
      "C:\\Users\\user\\AppData\\Local\\Temp\\ipykernel_30304\\367042895.py:12: SettingWithCopyWarning: \n",
      "A value is trying to be set on a copy of a slice from a DataFrame.\n",
      "Try using .loc[row_indexer,col_indexer] = value instead\n",
      "\n",
      "See the caveats in the documentation: https://pandas.pydata.org/pandas-docs/stable/user_guide/indexing.html#returning-a-view-versus-a-copy\n",
      "  cluster_videos['distance'] = distances\n",
      "C:\\Users\\user\\AppData\\Local\\Temp\\ipykernel_30304\\367042895.py:12: SettingWithCopyWarning: \n",
      "A value is trying to be set on a copy of a slice from a DataFrame.\n",
      "Try using .loc[row_indexer,col_indexer] = value instead\n",
      "\n",
      "See the caveats in the documentation: https://pandas.pydata.org/pandas-docs/stable/user_guide/indexing.html#returning-a-view-versus-a-copy\n",
      "  cluster_videos['distance'] = distances\n",
      "C:\\Users\\user\\AppData\\Local\\Temp\\ipykernel_30304\\367042895.py:12: SettingWithCopyWarning: \n",
      "A value is trying to be set on a copy of a slice from a DataFrame.\n",
      "Try using .loc[row_indexer,col_indexer] = value instead\n",
      "\n",
      "See the caveats in the documentation: https://pandas.pydata.org/pandas-docs/stable/user_guide/indexing.html#returning-a-view-versus-a-copy\n",
      "  cluster_videos['distance'] = distances\n",
      "C:\\Users\\user\\AppData\\Local\\Temp\\ipykernel_30304\\367042895.py:12: SettingWithCopyWarning: \n",
      "A value is trying to be set on a copy of a slice from a DataFrame.\n",
      "Try using .loc[row_indexer,col_indexer] = value instead\n",
      "\n",
      "See the caveats in the documentation: https://pandas.pydata.org/pandas-docs/stable/user_guide/indexing.html#returning-a-view-versus-a-copy\n",
      "  cluster_videos['distance'] = distances\n",
      "C:\\Users\\user\\AppData\\Local\\Temp\\ipykernel_30304\\367042895.py:12: SettingWithCopyWarning: \n",
      "A value is trying to be set on a copy of a slice from a DataFrame.\n",
      "Try using .loc[row_indexer,col_indexer] = value instead\n",
      "\n",
      "See the caveats in the documentation: https://pandas.pydata.org/pandas-docs/stable/user_guide/indexing.html#returning-a-view-versus-a-copy\n",
      "  cluster_videos['distance'] = distances\n",
      "C:\\Users\\user\\AppData\\Local\\Temp\\ipykernel_30304\\367042895.py:12: SettingWithCopyWarning: \n",
      "A value is trying to be set on a copy of a slice from a DataFrame.\n",
      "Try using .loc[row_indexer,col_indexer] = value instead\n",
      "\n",
      "See the caveats in the documentation: https://pandas.pydata.org/pandas-docs/stable/user_guide/indexing.html#returning-a-view-versus-a-copy\n",
      "  cluster_videos['distance'] = distances\n",
      "C:\\Users\\user\\AppData\\Local\\Temp\\ipykernel_30304\\367042895.py:12: SettingWithCopyWarning: \n",
      "A value is trying to be set on a copy of a slice from a DataFrame.\n",
      "Try using .loc[row_indexer,col_indexer] = value instead\n",
      "\n",
      "See the caveats in the documentation: https://pandas.pydata.org/pandas-docs/stable/user_guide/indexing.html#returning-a-view-versus-a-copy\n",
      "  cluster_videos['distance'] = distances\n",
      "C:\\Users\\user\\AppData\\Local\\Temp\\ipykernel_30304\\367042895.py:12: SettingWithCopyWarning: \n",
      "A value is trying to be set on a copy of a slice from a DataFrame.\n",
      "Try using .loc[row_indexer,col_indexer] = value instead\n",
      "\n",
      "See the caveats in the documentation: https://pandas.pydata.org/pandas-docs/stable/user_guide/indexing.html#returning-a-view-versus-a-copy\n",
      "  cluster_videos['distance'] = distances\n",
      "C:\\Users\\user\\AppData\\Local\\Temp\\ipykernel_30304\\367042895.py:12: SettingWithCopyWarning: \n",
      "A value is trying to be set on a copy of a slice from a DataFrame.\n",
      "Try using .loc[row_indexer,col_indexer] = value instead\n",
      "\n",
      "See the caveats in the documentation: https://pandas.pydata.org/pandas-docs/stable/user_guide/indexing.html#returning-a-view-versus-a-copy\n",
      "  cluster_videos['distance'] = distances\n",
      "C:\\Users\\user\\AppData\\Local\\Temp\\ipykernel_30304\\367042895.py:12: SettingWithCopyWarning: \n",
      "A value is trying to be set on a copy of a slice from a DataFrame.\n",
      "Try using .loc[row_indexer,col_indexer] = value instead\n",
      "\n",
      "See the caveats in the documentation: https://pandas.pydata.org/pandas-docs/stable/user_guide/indexing.html#returning-a-view-versus-a-copy\n",
      "  cluster_videos['distance'] = distances\n",
      "C:\\Users\\user\\AppData\\Local\\Temp\\ipykernel_30304\\367042895.py:12: SettingWithCopyWarning: \n",
      "A value is trying to be set on a copy of a slice from a DataFrame.\n",
      "Try using .loc[row_indexer,col_indexer] = value instead\n",
      "\n",
      "See the caveats in the documentation: https://pandas.pydata.org/pandas-docs/stable/user_guide/indexing.html#returning-a-view-versus-a-copy\n",
      "  cluster_videos['distance'] = distances\n",
      "C:\\Users\\user\\AppData\\Local\\Temp\\ipykernel_30304\\367042895.py:12: SettingWithCopyWarning: \n",
      "A value is trying to be set on a copy of a slice from a DataFrame.\n",
      "Try using .loc[row_indexer,col_indexer] = value instead\n",
      "\n",
      "See the caveats in the documentation: https://pandas.pydata.org/pandas-docs/stable/user_guide/indexing.html#returning-a-view-versus-a-copy\n",
      "  cluster_videos['distance'] = distances\n",
      "C:\\Users\\user\\AppData\\Local\\Temp\\ipykernel_30304\\367042895.py:12: SettingWithCopyWarning: \n",
      "A value is trying to be set on a copy of a slice from a DataFrame.\n",
      "Try using .loc[row_indexer,col_indexer] = value instead\n",
      "\n",
      "See the caveats in the documentation: https://pandas.pydata.org/pandas-docs/stable/user_guide/indexing.html#returning-a-view-versus-a-copy\n",
      "  cluster_videos['distance'] = distances\n",
      "C:\\Users\\user\\AppData\\Local\\Temp\\ipykernel_30304\\367042895.py:12: SettingWithCopyWarning: \n",
      "A value is trying to be set on a copy of a slice from a DataFrame.\n",
      "Try using .loc[row_indexer,col_indexer] = value instead\n",
      "\n",
      "See the caveats in the documentation: https://pandas.pydata.org/pandas-docs/stable/user_guide/indexing.html#returning-a-view-versus-a-copy\n",
      "  cluster_videos['distance'] = distances\n",
      "C:\\Users\\user\\AppData\\Local\\Temp\\ipykernel_30304\\367042895.py:12: SettingWithCopyWarning: \n",
      "A value is trying to be set on a copy of a slice from a DataFrame.\n",
      "Try using .loc[row_indexer,col_indexer] = value instead\n",
      "\n",
      "See the caveats in the documentation: https://pandas.pydata.org/pandas-docs/stable/user_guide/indexing.html#returning-a-view-versus-a-copy\n",
      "  cluster_videos['distance'] = distances\n"
     ]
    }
   ],
   "source": [
    "input_tags = ['breakup']\n",
    "cluster_scores = recommend_clusters(input_tags, vectorizer, kmeans)\n",
    "recommended_videos = recommend_videos(df, cluster_scores, kmeans)\n",
    "\n",
    "for url in recommended_videos[:5]:  \n",
    "    print(url)\n"
   ]
  }
 ],
 "metadata": {
  "kernelspec": {
   "display_name": "AI_2023",
   "language": "python",
   "name": "python3"
  },
  "language_info": {
   "codemirror_mode": {
    "name": "ipython",
    "version": 3
   },
   "file_extension": ".py",
   "mimetype": "text/x-python",
   "name": "python",
   "nbconvert_exporter": "python",
   "pygments_lexer": "ipython3",
   "version": "3.9.18"
  }
 },
 "nbformat": 4,
 "nbformat_minor": 2
}
