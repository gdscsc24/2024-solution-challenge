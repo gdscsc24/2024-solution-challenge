{
 "cells": [
  {
   "cell_type": "markdown",
   "metadata": {},
   "source": [
    "## Step 1. Load the Data"
   ]
  },
  {
   "cell_type": "code",
   "execution_count": 21,
   "metadata": {},
   "outputs": [],
   "source": [
    "import pandas as pd\n",
    "\n",
    "file_path = r'C:\\Users\\user\\Downloads\\2024 솔챌\\유투브영상수집.xlsx'\n",
    "df = pd.read_excel(file_path)\n"
   ]
  },
  {
   "cell_type": "code",
   "execution_count": 22,
   "metadata": {},
   "outputs": [],
   "source": [
    "#pip install openpyxl"
   ]
  },
  {
   "cell_type": "markdown",
   "metadata": {},
   "source": [
    "## Step 2. Define Input Processing"
   ]
  },
  {
   "cell_type": "code",
   "execution_count": 23,
   "metadata": {},
   "outputs": [],
   "source": [
    "def process_input(emotions, events):\n",
    "    # Process and standardize emotions and events input\n",
    "    processed_emotions = [emotion.lower() for emotion in emotions]\n",
    "    processed_events = [event.lower() for event in events]\n",
    "    return processed_emotions, processed_events"
   ]
  },
  {
   "cell_type": "markdown",
   "metadata": {},
   "source": [
    "## Step 3. Implement the Recommendation Logic"
   ]
  },
  {
   "cell_type": "code",
   "execution_count": 24,
   "metadata": {},
   "outputs": [],
   "source": [
    "def recommend_videos(df, emotions, events):\n",
    "    # Process input\n",
    "    emotions, events = process_input(emotions, events)\n",
    "    \n",
    "    # Filter and score videos\n",
    "    recommendations = []\n",
    "    for index, row in df.iterrows():\n",
    "        emotion_score = sum(1 for emotion in emotions if row.get(emotion, 0) == 1)\n",
    "        event_score = sum(1 for event in events if row.get(event, 0) == 1)\n",
    "        total_score = emotion_score + event_score\n",
    "        \n",
    "        # Only include if related\n",
    "        if total_score > 0:\n",
    "            recommendations.append((row['링크'], total_score))\n",
    "    \n",
    "    # Sort videos by score, higher first\n",
    "    recommendations.sort(key=lambda x: x[1], reverse=True)\n",
    "    \n",
    "    # Extract URLs\n",
    "    recommended_urls = [url for url, score in recommendations]\n",
    "    return recommended_urls"
   ]
  },
  {
   "cell_type": "markdown",
   "metadata": {},
   "source": [
    "## Step 4. Apply the Algorithm"
   ]
  },
  {
   "cell_type": "code",
   "execution_count": 25,
   "metadata": {},
   "outputs": [
    {
     "name": "stdout",
     "output_type": "stream",
     "text": [
      "['https://youtu.be/I-biEEfDpcA?feature=shared', 'https://youtu.be/MOthyGP3nnw?feature=shared', 'https://youtu.be/UzO71uHSG-M?si=6uvgom9aPQwOWZaj', 'https://youtu.be/VJF1Kvs61WE?si=T9EUm71asFdSc54b', 'https://youtu.be/DbgqA07g2Y0?si=Ms7agcEhqNf7m3jl', 'https://youtu.be/xeul9fEvo-Q?si=eNGMtX5GHTr1ND4G', 'https://youtu.be/8xMs4VVT2kc?si=LSTSq1lBOOTOIoOR', 'https://youtu.be/zGifCNokUy8?si=8MJcO8q9D45ECUFL', 'https://youtu.be/iWLnDaZYYEs?si=e6WjQ3uYQhOLMGsM', 'https://youtu.be/WFkM_ZbvmZo?si=xsIsc7Hva3nZFUqm', 'https://youtu.be/Q4y-vQlcx3Q?si=esc-eDKtksOO3CMX', 'https://youtu.be/OdGTYh7pyFQ?feature=shared', 'https://youtu.be/NT9WJKn8nIQ?feature=shared', 'https://youtu.be/RdJl6HTzRV4?feature=shared', 'https://youtu.be/C_RP2fUDocE?feature=shared', 'https://youtu.be/G2vNVNsq_LQ?feature=shared', 'https://youtu.be/i3r11tjLiN8?feature=shared', 'https://youtu.be/SELP_6uBy7I?feature=shared', 'https://youtu.be/Odok80rhavI?feature=shared', 'https://youtu.be/vnTnmWJcbXo?feature=shared', 'https://youtu.be/tIVtOGmpSsk?feature=shared', 'https://youtu.be/R7nd1CtDWBU?feature=shared', 'https://youtu.be/RB3s4P3DGH4?feature=shared', 'https://youtu.be/rAhvXnBVauw?si=mKFSz7U-byJwgb3q', 'https://youtu.be/OwCv9pitmOs?si=gQLnNLL5hGUQ1vu9', 'https://youtu.be/-FiAZTQhtwI?si=ZjTWXQkQBi6ZKRBG', 'https://youtu.be/lAHDjGYc7ns?si=Baw7Am47MdCkqhiu', 'https://youtu.be/NNI4DUMpLs0?si=qAS8hPtU1U5J_f8v', 'https://youtu.be/PGDRzIeIgLA?si=hc7ULCI_0MWQs2mB', 'https://youtu.be/XwRSLWxqhyc?si=flLpUG3Q7rH7_ATz', 'https://youtu.be/Q16dqQ4znEU?si=oZb9yCln0p2_uIo9', 'https://youtu.be/tszodyBU0rA?si=Ica-Az_tLRFAnch1', 'https://youtu.be/s_UJaXD8QHU?si=smN0_8adF_fe1bYJ', 'https://youtu.be/EUSFGx6HJMc?si=SEyNJbY4Ur5xxY6f', 'https://youtu.be/VGCIbMQuM5c?si=oCAu6Gs7H3hD9W0p', 'https://youtu.be/lVgOi_reAfw?si=cYF_bVrlCf4k-JT6', 'https://youtu.be/bgysIlAlKi4?feature=shared', 'https://youtu.be/95Geohd311Q?feature=shared', 'https://youtu.be/QcDOy8K2XOA?feature=shared', 'https://youtu.be/0xAH1onGyi8?feature=shared', 'https://youtu.be/nSXVkcz_-7Y?feature=shared', 'https://youtu.be/sdXLaaqUKVY?feature=shared', 'https://youtu.be/RBOso2y3Yhk?feature=shared', 'https://youtu.be/mLLtYA-VcAA?feature=shared', 'https://youtu.be/9_hFr1C-xhw?feature=shared', 'https://youtu.be/m6BHmR4UME0?feature=shared', 'https://youtu.be/x4kNrszQ9Kg?feature=shared', 'https://youtu.be/YtYIb8Qy8mw?feature=shared', 'https://youtu.be/eDNTuDBqHSY?feature=shared', 'https://youtu.be/uYl3K66WL1Q?feature=shared', 'https://youtu.be/1BxY5PVUOek?feature=shared', 'https://youtu.be/RIsEiEKBacY?feature=shared', 'https://youtu.be/p3fqywEyDg0?feature=shared', 'https://youtu.be/BPbjcLkWtqg?feature=shared', 'https://youtu.be/OXepsDU3ENg?feature=shared', 'https://youtu.be/LXzwO5RcC-A?feature=shared', 'https://youtu.be/B8oRH3PBbyg?feature=shared', 'https://youtu.be/vXdYzYri3NE?si=McdjBHubSD4sKuim', 'https://youtu.be/bdBix2RQ43A?si=_LAkvvzorWcoNDkU', 'https://youtu.be/j89MQ2vVfPI?si=5PRS7EWqo1pwVLH9', 'https://youtu.be/rYw_rE53bcI?si=86xbs_G_24zqsgbh', 'https://youtu.be/Uq7-Ek3tli0?si=SwKwSTVwiiwDRvZt']\n"
     ]
    }
   ],
   "source": [
    "# Example input\n",
    "input_emotions = ['sad', 'angry']\n",
    "input_events = ['relationship', 'friends']\n",
    "\n",
    "# Get recommendations\n",
    "recommendations = recommend_videos(df, input_emotions, input_events)\n",
    "print(recommendations)"
   ]
  },
  {
   "cell_type": "code",
   "execution_count": 26,
   "metadata": {},
   "outputs": [
    {
     "name": "stdout",
     "output_type": "stream",
     "text": [
      "62\n"
     ]
    }
   ],
   "source": [
    "print(len(recommendations))"
   ]
  },
  {
   "cell_type": "code",
   "execution_count": null,
   "metadata": {},
   "outputs": [],
   "source": []
  }
 ],
 "metadata": {
  "kernelspec": {
   "display_name": "AI_2023",
   "language": "python",
   "name": "python3"
  },
  "language_info": {
   "codemirror_mode": {
    "name": "ipython",
    "version": 3
   },
   "file_extension": ".py",
   "mimetype": "text/x-python",
   "name": "python",
   "nbconvert_exporter": "python",
   "pygments_lexer": "ipython3",
   "version": "3.9.18"
  }
 },
 "nbformat": 4,
 "nbformat_minor": 2
}
