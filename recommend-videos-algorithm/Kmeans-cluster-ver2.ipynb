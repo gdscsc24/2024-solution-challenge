{
 "cells": [
  {
   "cell_type": "markdown",
   "metadata": {},
   "source": [
    "## Step 1. Load the Data"
   ]
  },
  {
   "cell_type": "code",
   "execution_count": 1,
   "metadata": {},
   "outputs": [],
   "source": [
    "from sklearn.feature_extraction.text import TfidfVectorizer\n",
    "from sklearn.cluster import KMeans\n",
    "from sklearn.metrics.pairwise import cosine_similarity\n",
    "import pandas as pd\n",
    "import numpy as np\n",
    "\n",
    "file_path = r'C:\\Users\\user\\Downloads\\2024 솔챌\\유투브영상수집_썸네일추가.xlsx'\n",
    "df = pd.read_excel(file_path)\n"
   ]
  },
  {
   "cell_type": "code",
   "execution_count": 2,
   "metadata": {},
   "outputs": [],
   "source": [
    "#pip install openpyxl"
   ]
  },
  {
   "cell_type": "markdown",
   "metadata": {},
   "source": [
    "## Step 2. Define Input Processing"
   ]
  },
  {
   "cell_type": "code",
   "execution_count": 3,
   "metadata": {},
   "outputs": [],
   "source": [
    "# List of all emotion and event columns in the dataset\n",
    "emotion_columns = ['angry', 'sad', 'anxious', 'hurt', 'embarrassed', 'happy']\n",
    "event_columns = ['relationship', 'breakup', 'family', 'work', 'studying', 'insomnia', 'people', 'health', 'self-esteem', 'money', 'friends']\n",
    "\n",
    "# Function to concatenate applicable tags for each video\n",
    "def create_tags(row):\n",
    "    tags = []\n",
    "    for col in emotion_columns + event_columns:\n",
    "        if row[col] == 1:  # Assuming 1 indicates an applicable tag\n",
    "            tags.append(col)\n",
    "    return ' '.join(tags)  # Concatenating all tags into a single string\n",
    "\n",
    "# Applying the function to each row in the dataframe to create the 'tags' column\n",
    "df['tags'] = df.apply(create_tags, axis=1)"
   ]
  },
  {
   "cell_type": "code",
   "execution_count": 4,
   "metadata": {},
   "outputs": [],
   "source": [
    "# vectorize 방식 변경 \n",
    "vectorizer = TfidfVectorizer()\n",
    "X = vectorizer.fit_transform(df['tags'])"
   ]
  },
  {
   "cell_type": "markdown",
   "metadata": {},
   "source": [
    "## Step 3. Implement the Recommendation Logic"
   ]
  },
  {
   "cell_type": "code",
   "execution_count": 5,
   "metadata": {},
   "outputs": [
    {
     "name": "stderr",
     "output_type": "stream",
     "text": [
      "c:\\Users\\user\\.conda\\envs\\AI_2023\\lib\\site-packages\\sklearn\\cluster\\_kmeans.py:1416: FutureWarning: The default value of `n_init` will change from 10 to 'auto' in 1.4. Set the value of `n_init` explicitly to suppress the warning\n",
      "  super()._check_params_vs_input(X, default_n_init=10)\n",
      "c:\\Users\\user\\.conda\\envs\\AI_2023\\lib\\site-packages\\joblib\\externals\\loky\\backend\\context.py:136: UserWarning: Could not find the number of physical cores for the following reason:\n",
      "[WinError 2] 지정된 파일을 찾을 수 없습니다\n",
      "Returning the number of logical cores instead. You can silence this warning by setting LOKY_MAX_CPU_COUNT to the number of cores you want to use.\n",
      "  warnings.warn(\n",
      "  File \"c:\\Users\\user\\.conda\\envs\\AI_2023\\lib\\site-packages\\joblib\\externals\\loky\\backend\\context.py\", line 257, in _count_physical_cores\n",
      "    cpu_info = subprocess.run(\n",
      "  File \"c:\\Users\\user\\.conda\\envs\\AI_2023\\lib\\subprocess.py\", line 505, in run\n",
      "    with Popen(*popenargs, **kwargs) as process:\n",
      "  File \"c:\\Users\\user\\.conda\\envs\\AI_2023\\lib\\subprocess.py\", line 951, in __init__\n",
      "    self._execute_child(args, executable, preexec_fn, close_fds,\n",
      "  File \"c:\\Users\\user\\.conda\\envs\\AI_2023\\lib\\subprocess.py\", line 1436, in _execute_child\n",
      "    hp, ht, pid, tid = _winapi.CreateProcess(executable, args,\n"
     ]
    }
   ],
   "source": [
    "kmeans = KMeans(n_clusters=10, random_state=42)\n",
    "kmeans.fit(X)\n",
    "df['cluster'] = kmeans.labels_"
   ]
  },
  {
   "cell_type": "code",
   "execution_count": 6,
   "metadata": {},
   "outputs": [],
   "source": [
    "def recommend_clusters(input_tags, vectorizer, kmeans):\n",
    "    input_vec = vectorizer.transform([\" \".join(input_tags)])\n",
    "    similarities = cosine_similarity(input_vec, kmeans.cluster_centers_)\n",
    "    scores = similarities.flatten()\n",
    "    scores_dict = {i: scores[i] for i in range(len(scores))}\n",
    "    return scores_dict"
   ]
  },
  {
   "cell_type": "code",
   "execution_count": 12,
   "metadata": {},
   "outputs": [],
   "source": [
    "def recommend_videos(df, cluster_scores, kmeans, vectorizer):\n",
    "    recommend = []\n",
    "    for cluster_index in sorted(cluster_scores, key=cluster_scores.get, reverse=True):\n",
    "        cluster_videos = df[df['cluster'] == cluster_index]\n",
    "        distances = cosine_similarity(vectorizer.transform(cluster_videos['tags']), kmeans.cluster_centers_[cluster_index].reshape(1, -1))\n",
    "        cluster_videos['distance'] = distances.flatten()\n",
    "        sorted_videos = cluster_videos.sort_values(by='distance', ascending=False)\n",
    "        recommend.extend(sorted_videos[['링크', '이미지 주소', '제목']].to_dict('records'))  # 리스트 대신 딕셔너리로 정보 포함\n",
    "    return recommend"
   ]
  },
  {
   "cell_type": "markdown",
   "metadata": {},
   "source": [
    "## Step 4. Apply the Algorithm"
   ]
  },
  {
   "cell_type": "code",
   "execution_count": 13,
   "metadata": {},
   "outputs": [
    {
     "name": "stdout",
     "output_type": "stream",
     "text": [
      "{'링크': 'https://youtu.be/SELP_6uBy7I?feature=shared', '이미지 주소': 'https://img.youtube.com/vi/SELP_6uBy7I/maxresdefault.jpg', '제목': '[이별] 정신과 의사가 말하는 이별 후폭풍 극복법'}\n",
      "{'링크': 'https://youtu.be/Odok80rhavI?feature=shared', '이미지 주소': 'https://img.youtube.com/vi/Odok80rhavI/maxresdefault.jpg', '제목': '건강하게 이별하는 법, 정신과의사가 알려주는 연애 멘탈 관리법 #3 | 김지용 정신의학전문의'}\n",
      "{'링크': 'https://youtu.be/vnTnmWJcbXo?feature=shared', '이미지 주소': 'https://img.youtube.com/vi/vnTnmWJcbXo/maxresdefault.jpg', '제목': '안되는 걸 알면서 재회를 바라고 있다면 꼭 보세요 | #앤드쌤의사랑방 | #이별 #연애 #이별극복'}\n",
      "{'링크': 'https://youtu.be/tIVtOGmpSsk?feature=shared', '이미지 주소': 'https://img.youtube.com/vi/tIVtOGmpSsk/maxresdefault.jpg', '제목': '💔이별 후 힘들어 하는 사람들에게 정신과 의사가 하고 싶은 말 | 토닥토닥 인생 상담소'}\n",
      "{'링크': 'https://youtu.be/R7nd1CtDWBU?feature=shared', '이미지 주소': 'https://img.youtube.com/vi/R7nd1CtDWBU/maxresdefault.jpg', '제목': '이별 후 덜 힘들 방법 (이별 극복)'}\n"
     ]
    },
    {
     "name": "stderr",
     "output_type": "stream",
     "text": [
      "C:\\Users\\user\\AppData\\Local\\Temp\\ipykernel_6312\\2500758868.py:6: SettingWithCopyWarning: \n",
      "A value is trying to be set on a copy of a slice from a DataFrame.\n",
      "Try using .loc[row_indexer,col_indexer] = value instead\n",
      "\n",
      "See the caveats in the documentation: https://pandas.pydata.org/pandas-docs/stable/user_guide/indexing.html#returning-a-view-versus-a-copy\n",
      "  cluster_videos['distance'] = distances.flatten()\n",
      "C:\\Users\\user\\AppData\\Local\\Temp\\ipykernel_6312\\2500758868.py:6: SettingWithCopyWarning: \n",
      "A value is trying to be set on a copy of a slice from a DataFrame.\n",
      "Try using .loc[row_indexer,col_indexer] = value instead\n",
      "\n",
      "See the caveats in the documentation: https://pandas.pydata.org/pandas-docs/stable/user_guide/indexing.html#returning-a-view-versus-a-copy\n",
      "  cluster_videos['distance'] = distances.flatten()\n",
      "C:\\Users\\user\\AppData\\Local\\Temp\\ipykernel_6312\\2500758868.py:6: SettingWithCopyWarning: \n",
      "A value is trying to be set on a copy of a slice from a DataFrame.\n",
      "Try using .loc[row_indexer,col_indexer] = value instead\n",
      "\n",
      "See the caveats in the documentation: https://pandas.pydata.org/pandas-docs/stable/user_guide/indexing.html#returning-a-view-versus-a-copy\n",
      "  cluster_videos['distance'] = distances.flatten()\n",
      "C:\\Users\\user\\AppData\\Local\\Temp\\ipykernel_6312\\2500758868.py:6: SettingWithCopyWarning: \n",
      "A value is trying to be set on a copy of a slice from a DataFrame.\n",
      "Try using .loc[row_indexer,col_indexer] = value instead\n",
      "\n",
      "See the caveats in the documentation: https://pandas.pydata.org/pandas-docs/stable/user_guide/indexing.html#returning-a-view-versus-a-copy\n",
      "  cluster_videos['distance'] = distances.flatten()\n",
      "C:\\Users\\user\\AppData\\Local\\Temp\\ipykernel_6312\\2500758868.py:6: SettingWithCopyWarning: \n",
      "A value is trying to be set on a copy of a slice from a DataFrame.\n",
      "Try using .loc[row_indexer,col_indexer] = value instead\n",
      "\n",
      "See the caveats in the documentation: https://pandas.pydata.org/pandas-docs/stable/user_guide/indexing.html#returning-a-view-versus-a-copy\n",
      "  cluster_videos['distance'] = distances.flatten()\n",
      "C:\\Users\\user\\AppData\\Local\\Temp\\ipykernel_6312\\2500758868.py:6: SettingWithCopyWarning: \n",
      "A value is trying to be set on a copy of a slice from a DataFrame.\n",
      "Try using .loc[row_indexer,col_indexer] = value instead\n",
      "\n",
      "See the caveats in the documentation: https://pandas.pydata.org/pandas-docs/stable/user_guide/indexing.html#returning-a-view-versus-a-copy\n",
      "  cluster_videos['distance'] = distances.flatten()\n",
      "C:\\Users\\user\\AppData\\Local\\Temp\\ipykernel_6312\\2500758868.py:6: SettingWithCopyWarning: \n",
      "A value is trying to be set on a copy of a slice from a DataFrame.\n",
      "Try using .loc[row_indexer,col_indexer] = value instead\n",
      "\n",
      "See the caveats in the documentation: https://pandas.pydata.org/pandas-docs/stable/user_guide/indexing.html#returning-a-view-versus-a-copy\n",
      "  cluster_videos['distance'] = distances.flatten()\n",
      "C:\\Users\\user\\AppData\\Local\\Temp\\ipykernel_6312\\2500758868.py:6: SettingWithCopyWarning: \n",
      "A value is trying to be set on a copy of a slice from a DataFrame.\n",
      "Try using .loc[row_indexer,col_indexer] = value instead\n",
      "\n",
      "See the caveats in the documentation: https://pandas.pydata.org/pandas-docs/stable/user_guide/indexing.html#returning-a-view-versus-a-copy\n",
      "  cluster_videos['distance'] = distances.flatten()\n",
      "C:\\Users\\user\\AppData\\Local\\Temp\\ipykernel_6312\\2500758868.py:6: SettingWithCopyWarning: \n",
      "A value is trying to be set on a copy of a slice from a DataFrame.\n",
      "Try using .loc[row_indexer,col_indexer] = value instead\n",
      "\n",
      "See the caveats in the documentation: https://pandas.pydata.org/pandas-docs/stable/user_guide/indexing.html#returning-a-view-versus-a-copy\n",
      "  cluster_videos['distance'] = distances.flatten()\n",
      "C:\\Users\\user\\AppData\\Local\\Temp\\ipykernel_6312\\2500758868.py:6: SettingWithCopyWarning: \n",
      "A value is trying to be set on a copy of a slice from a DataFrame.\n",
      "Try using .loc[row_indexer,col_indexer] = value instead\n",
      "\n",
      "See the caveats in the documentation: https://pandas.pydata.org/pandas-docs/stable/user_guide/indexing.html#returning-a-view-versus-a-copy\n",
      "  cluster_videos['distance'] = distances.flatten()\n"
     ]
    }
   ],
   "source": [
    "input_tags = ['breakup']  # 사용자 입력\n",
    "cluster_scores = recommend_clusters(input_tags, vectorizer, kmeans)\n",
    "recommended_videos = recommend_videos(df, cluster_scores, kmeans, vectorizer)\n",
    "\n",
    "for video in recommended_videos[:5]:\n",
    "    print(video)"
   ]
  }
 ],
 "metadata": {
  "kernelspec": {
   "display_name": "AI_2023",
   "language": "python",
   "name": "python3"
  },
  "language_info": {
   "codemirror_mode": {
    "name": "ipython",
    "version": 3
   },
   "file_extension": ".py",
   "mimetype": "text/x-python",
   "name": "python",
   "nbconvert_exporter": "python",
   "pygments_lexer": "ipython3",
   "version": "3.9.18"
  }
 },
 "nbformat": 4,
 "nbformat_minor": 2
}
