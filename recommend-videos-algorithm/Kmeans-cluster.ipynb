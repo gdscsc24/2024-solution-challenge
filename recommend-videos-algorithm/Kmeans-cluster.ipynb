{
 "cells": [
  {
   "cell_type": "markdown",
   "metadata": {},
   "source": [
    "## Step 1. Load the Data"
   ]
  },
  {
   "cell_type": "code",
   "execution_count": 25,
   "metadata": {},
   "outputs": [],
   "source": [
    "import pandas as pd\n",
    "\n",
    "file_path = r'C:\\Users\\user\\Downloads\\2024 솔챌\\유투브영상수집.xlsx'\n",
    "df = pd.read_excel(file_path)\n"
   ]
  },
  {
   "cell_type": "code",
   "execution_count": 26,
   "metadata": {},
   "outputs": [],
   "source": [
    "#pip install openpyxl"
   ]
  },
  {
   "cell_type": "markdown",
   "metadata": {},
   "source": [
    "## Step 2. Define Input Processing"
   ]
  },
  {
   "cell_type": "code",
   "execution_count": 27,
   "metadata": {},
   "outputs": [],
   "source": [
    "# List of all emotion and event columns in the dataset\n",
    "emotion_columns = ['angry', 'sad', 'anxious', 'hurt', 'embarrassed', 'happy']\n",
    "event_columns = ['relationship', 'breakup', 'family', 'work', 'studying', 'insomnia', 'people', 'health', 'self-esteem', 'money', 'friends']\n",
    "\n",
    "# Function to concatenate applicable tags for each video\n",
    "def create_tags(row):\n",
    "    tags = []\n",
    "    for col in emotion_columns + event_columns:\n",
    "        if row[col] == 1:  # Assuming 1 indicates an applicable tag\n",
    "            tags.append(col)\n",
    "    return ' '.join(tags)  # Concatenating all tags into a single string\n",
    "\n",
    "# Applying the function to each row in the dataframe to create the 'tags' column\n",
    "df['tags'] = df.apply(create_tags, axis=1)"
   ]
  },
  {
   "cell_type": "markdown",
   "metadata": {},
   "source": [
    "## Step 3. Implement the Recommendation Logic"
   ]
  },
  {
   "cell_type": "code",
   "execution_count": 28,
   "metadata": {},
   "outputs": [],
   "source": [
    "from sklearn.feature_extraction.text import CountVectorizer\n",
    "from sklearn.cluster import KMeans"
   ]
  },
  {
   "cell_type": "code",
   "execution_count": 29,
   "metadata": {},
   "outputs": [
    {
     "name": "stderr",
     "output_type": "stream",
     "text": [
      "c:\\Users\\user\\.conda\\envs\\AI_2023\\lib\\site-packages\\sklearn\\cluster\\_kmeans.py:1416: FutureWarning: The default value of `n_init` will change from 10 to 'auto' in 1.4. Set the value of `n_init` explicitly to suppress the warning\n",
      "  super()._check_params_vs_input(X, default_n_init=10)\n"
     ]
    }
   ],
   "source": [
    "# 영상에 클러스터 라벨링 \n",
    "vectorizer = CountVectorizer()\n",
    "X = vectorizer.fit_transform(df['tags'])\n",
    "kmeans = KMeans(n_clusters=20)\n",
    "kmeans.fit(X)\n",
    "df['cluster'] = kmeans.labels_"
   ]
  },
  {
   "cell_type": "code",
   "execution_count": 30,
   "metadata": {},
   "outputs": [
    {
     "data": {
      "text/plain": [
       "0     17\n",
       "1     17\n",
       "2     17\n",
       "3     17\n",
       "4     17\n",
       "      ..\n",
       "84     2\n",
       "85     2\n",
       "86     2\n",
       "87     2\n",
       "88    18\n",
       "Name: cluster, Length: 89, dtype: int32"
      ]
     },
     "execution_count": 30,
     "metadata": {},
     "output_type": "execute_result"
    }
   ],
   "source": [
    "df['cluster']"
   ]
  },
  {
   "cell_type": "code",
   "execution_count": 31,
   "metadata": {},
   "outputs": [],
   "source": [
    "from sklearn.feature_extraction.text import TfidfVectorizer\n",
    "from sklearn.metrics.pairwise import euclidean_distances\n",
    "import numpy as np\n",
    "\n",
    "def vectorize_input_tags(input_tags, vectorizer): \n",
    "    \"\"\"\n",
    "    입력 태그를 벡터화합니다.\n",
    "    \"\"\"\n",
    "    return vectorizer.transform([\" \".join(input_tags)])\n",
    "\n",
    "def calculate_cluster_distances(input_vec, cluster_centers):\n",
    "    \"\"\"\n",
    "    입력 벡터와 각 클러스터 중심과의 유클리드 거리를 계산합니다.\n",
    "    \"\"\"\n",
    "    distances = euclidean_distances(input_vec, cluster_centers)\n",
    "    return distances.flatten()\n",
    "\n",
    "def recommend_clusters(input_tags, vectorizer, kmeans):\n",
    "    \"\"\"\n",
    "    입력 태그에 기반하여 클러스터를 추천합니다.\n",
    "    \"\"\"\n",
    "    # 입력 태그 벡터화\n",
    "    input_vec = vectorize_input_tags(input_tags, vectorizer)\n",
    "    \n",
    "    # 클러스터 중심과의 거리 계산\n",
    "    distances = calculate_cluster_distances(input_vec, kmeans.cluster_centers_)\n",
    "    \n",
    "    # 거리에 기반한 유사성 점수 계산 \n",
    "    scores = 1 / (1 + distances)  \n",
    "    \n",
    "    # 유사성 점수에 기반하여 클러스터 추천\n",
    "    recommended_cluster_indices = np.argsort(scores)[::-1]  # 점수가 높은 순으로 정렬\n",
    "    \n",
    "    scores_dict = {cluster_index: scores[cluster_index] for cluster_index in recommended_cluster_indices if scores[cluster_index] > 0}\n",
    "\n",
    "    return scores_dict"
   ]
  },
  {
   "cell_type": "code",
   "execution_count": 32,
   "metadata": {},
   "outputs": [],
   "source": [
    "def recommend_videos(df, cluster_scores, kmeans):\n",
    "    \"\"\"\n",
    "    유사도 점수가 높은 클러스터에 해당하는 영상을 추천합니다.\n",
    "    \"\"\"\n",
    "    recommend = []\n",
    "    for cluster_index in sorted(cluster_scores, key=cluster_scores.get, reverse=True):\n",
    "        # 클러스터에 속한 영상 필터링\n",
    "        cluster_videos = df[df['cluster'] == cluster_index]\n",
    "        \n",
    "        # 클러스터 중심과의 거리 계산\n",
    "        distances = calculate_cluster_distances(vectorizer.transform(cluster_videos['tags']), [kmeans.cluster_centers_[cluster_index]])\n",
    "        \n",
    "        # 거리에 따라 영상 정렬\n",
    "        cluster_videos['distance'] = distances\n",
    "        sorted_videos = cluster_videos.sort_values(by='distance')\n",
    "        \n",
    "        # 정렬된 영상 링크 추가\n",
    "        recommend.extend(sorted_videos['링크'].tolist())\n",
    "    \n",
    "    return recommend"
   ]
  },
  {
   "cell_type": "markdown",
   "metadata": {},
   "source": [
    "## Step 4. Apply the Algorithm"
   ]
  },
  {
   "cell_type": "code",
   "execution_count": 37,
   "metadata": {},
   "outputs": [
    {
     "name": "stdout",
     "output_type": "stream",
     "text": [
      "https://youtu.be/mLLtYA-VcAA?feature=shared\n",
      "https://youtu.be/9_hFr1C-xhw?feature=shared\n",
      "https://youtu.be/m6BHmR4UME0?feature=shared\n",
      "https://youtu.be/x4kNrszQ9Kg?feature=shared\n",
      "https://youtu.be/YtYIb8Qy8mw?feature=shared\n"
     ]
    },
    {
     "name": "stderr",
     "output_type": "stream",
     "text": [
      "C:\\Users\\user\\AppData\\Local\\Temp\\ipykernel_4224\\2378131914.py:14: SettingWithCopyWarning: \n",
      "A value is trying to be set on a copy of a slice from a DataFrame.\n",
      "Try using .loc[row_indexer,col_indexer] = value instead\n",
      "\n",
      "See the caveats in the documentation: https://pandas.pydata.org/pandas-docs/stable/user_guide/indexing.html#returning-a-view-versus-a-copy\n",
      "  cluster_videos['distance'] = distances\n",
      "C:\\Users\\user\\AppData\\Local\\Temp\\ipykernel_4224\\2378131914.py:14: SettingWithCopyWarning: \n",
      "A value is trying to be set on a copy of a slice from a DataFrame.\n",
      "Try using .loc[row_indexer,col_indexer] = value instead\n",
      "\n",
      "See the caveats in the documentation: https://pandas.pydata.org/pandas-docs/stable/user_guide/indexing.html#returning-a-view-versus-a-copy\n",
      "  cluster_videos['distance'] = distances\n",
      "C:\\Users\\user\\AppData\\Local\\Temp\\ipykernel_4224\\2378131914.py:14: SettingWithCopyWarning: \n",
      "A value is trying to be set on a copy of a slice from a DataFrame.\n",
      "Try using .loc[row_indexer,col_indexer] = value instead\n",
      "\n",
      "See the caveats in the documentation: https://pandas.pydata.org/pandas-docs/stable/user_guide/indexing.html#returning-a-view-versus-a-copy\n",
      "  cluster_videos['distance'] = distances\n",
      "C:\\Users\\user\\AppData\\Local\\Temp\\ipykernel_4224\\2378131914.py:14: SettingWithCopyWarning: \n",
      "A value is trying to be set on a copy of a slice from a DataFrame.\n",
      "Try using .loc[row_indexer,col_indexer] = value instead\n",
      "\n",
      "See the caveats in the documentation: https://pandas.pydata.org/pandas-docs/stable/user_guide/indexing.html#returning-a-view-versus-a-copy\n",
      "  cluster_videos['distance'] = distances\n",
      "C:\\Users\\user\\AppData\\Local\\Temp\\ipykernel_4224\\2378131914.py:14: SettingWithCopyWarning: \n",
      "A value is trying to be set on a copy of a slice from a DataFrame.\n",
      "Try using .loc[row_indexer,col_indexer] = value instead\n",
      "\n",
      "See the caveats in the documentation: https://pandas.pydata.org/pandas-docs/stable/user_guide/indexing.html#returning-a-view-versus-a-copy\n",
      "  cluster_videos['distance'] = distances\n",
      "C:\\Users\\user\\AppData\\Local\\Temp\\ipykernel_4224\\2378131914.py:14: SettingWithCopyWarning: \n",
      "A value is trying to be set on a copy of a slice from a DataFrame.\n",
      "Try using .loc[row_indexer,col_indexer] = value instead\n",
      "\n",
      "See the caveats in the documentation: https://pandas.pydata.org/pandas-docs/stable/user_guide/indexing.html#returning-a-view-versus-a-copy\n",
      "  cluster_videos['distance'] = distances\n",
      "C:\\Users\\user\\AppData\\Local\\Temp\\ipykernel_4224\\2378131914.py:14: SettingWithCopyWarning: \n",
      "A value is trying to be set on a copy of a slice from a DataFrame.\n",
      "Try using .loc[row_indexer,col_indexer] = value instead\n",
      "\n",
      "See the caveats in the documentation: https://pandas.pydata.org/pandas-docs/stable/user_guide/indexing.html#returning-a-view-versus-a-copy\n",
      "  cluster_videos['distance'] = distances\n",
      "C:\\Users\\user\\AppData\\Local\\Temp\\ipykernel_4224\\2378131914.py:14: SettingWithCopyWarning: \n",
      "A value is trying to be set on a copy of a slice from a DataFrame.\n",
      "Try using .loc[row_indexer,col_indexer] = value instead\n",
      "\n",
      "See the caveats in the documentation: https://pandas.pydata.org/pandas-docs/stable/user_guide/indexing.html#returning-a-view-versus-a-copy\n",
      "  cluster_videos['distance'] = distances\n",
      "C:\\Users\\user\\AppData\\Local\\Temp\\ipykernel_4224\\2378131914.py:14: SettingWithCopyWarning: \n",
      "A value is trying to be set on a copy of a slice from a DataFrame.\n",
      "Try using .loc[row_indexer,col_indexer] = value instead\n",
      "\n",
      "See the caveats in the documentation: https://pandas.pydata.org/pandas-docs/stable/user_guide/indexing.html#returning-a-view-versus-a-copy\n",
      "  cluster_videos['distance'] = distances\n",
      "C:\\Users\\user\\AppData\\Local\\Temp\\ipykernel_4224\\2378131914.py:14: SettingWithCopyWarning: \n",
      "A value is trying to be set on a copy of a slice from a DataFrame.\n",
      "Try using .loc[row_indexer,col_indexer] = value instead\n",
      "\n",
      "See the caveats in the documentation: https://pandas.pydata.org/pandas-docs/stable/user_guide/indexing.html#returning-a-view-versus-a-copy\n",
      "  cluster_videos['distance'] = distances\n",
      "C:\\Users\\user\\AppData\\Local\\Temp\\ipykernel_4224\\2378131914.py:14: SettingWithCopyWarning: \n",
      "A value is trying to be set on a copy of a slice from a DataFrame.\n",
      "Try using .loc[row_indexer,col_indexer] = value instead\n",
      "\n",
      "See the caveats in the documentation: https://pandas.pydata.org/pandas-docs/stable/user_guide/indexing.html#returning-a-view-versus-a-copy\n",
      "  cluster_videos['distance'] = distances\n",
      "C:\\Users\\user\\AppData\\Local\\Temp\\ipykernel_4224\\2378131914.py:14: SettingWithCopyWarning: \n",
      "A value is trying to be set on a copy of a slice from a DataFrame.\n",
      "Try using .loc[row_indexer,col_indexer] = value instead\n",
      "\n",
      "See the caveats in the documentation: https://pandas.pydata.org/pandas-docs/stable/user_guide/indexing.html#returning-a-view-versus-a-copy\n",
      "  cluster_videos['distance'] = distances\n",
      "C:\\Users\\user\\AppData\\Local\\Temp\\ipykernel_4224\\2378131914.py:14: SettingWithCopyWarning: \n",
      "A value is trying to be set on a copy of a slice from a DataFrame.\n",
      "Try using .loc[row_indexer,col_indexer] = value instead\n",
      "\n",
      "See the caveats in the documentation: https://pandas.pydata.org/pandas-docs/stable/user_guide/indexing.html#returning-a-view-versus-a-copy\n",
      "  cluster_videos['distance'] = distances\n",
      "C:\\Users\\user\\AppData\\Local\\Temp\\ipykernel_4224\\2378131914.py:14: SettingWithCopyWarning: \n",
      "A value is trying to be set on a copy of a slice from a DataFrame.\n",
      "Try using .loc[row_indexer,col_indexer] = value instead\n",
      "\n",
      "See the caveats in the documentation: https://pandas.pydata.org/pandas-docs/stable/user_guide/indexing.html#returning-a-view-versus-a-copy\n",
      "  cluster_videos['distance'] = distances\n",
      "C:\\Users\\user\\AppData\\Local\\Temp\\ipykernel_4224\\2378131914.py:14: SettingWithCopyWarning: \n",
      "A value is trying to be set on a copy of a slice from a DataFrame.\n",
      "Try using .loc[row_indexer,col_indexer] = value instead\n",
      "\n",
      "See the caveats in the documentation: https://pandas.pydata.org/pandas-docs/stable/user_guide/indexing.html#returning-a-view-versus-a-copy\n",
      "  cluster_videos['distance'] = distances\n",
      "C:\\Users\\user\\AppData\\Local\\Temp\\ipykernel_4224\\2378131914.py:14: SettingWithCopyWarning: \n",
      "A value is trying to be set on a copy of a slice from a DataFrame.\n",
      "Try using .loc[row_indexer,col_indexer] = value instead\n",
      "\n",
      "See the caveats in the documentation: https://pandas.pydata.org/pandas-docs/stable/user_guide/indexing.html#returning-a-view-versus-a-copy\n",
      "  cluster_videos['distance'] = distances\n",
      "C:\\Users\\user\\AppData\\Local\\Temp\\ipykernel_4224\\2378131914.py:14: SettingWithCopyWarning: \n",
      "A value is trying to be set on a copy of a slice from a DataFrame.\n",
      "Try using .loc[row_indexer,col_indexer] = value instead\n",
      "\n",
      "See the caveats in the documentation: https://pandas.pydata.org/pandas-docs/stable/user_guide/indexing.html#returning-a-view-versus-a-copy\n",
      "  cluster_videos['distance'] = distances\n",
      "C:\\Users\\user\\AppData\\Local\\Temp\\ipykernel_4224\\2378131914.py:14: SettingWithCopyWarning: \n",
      "A value is trying to be set on a copy of a slice from a DataFrame.\n",
      "Try using .loc[row_indexer,col_indexer] = value instead\n",
      "\n",
      "See the caveats in the documentation: https://pandas.pydata.org/pandas-docs/stable/user_guide/indexing.html#returning-a-view-versus-a-copy\n",
      "  cluster_videos['distance'] = distances\n",
      "C:\\Users\\user\\AppData\\Local\\Temp\\ipykernel_4224\\2378131914.py:14: SettingWithCopyWarning: \n",
      "A value is trying to be set on a copy of a slice from a DataFrame.\n",
      "Try using .loc[row_indexer,col_indexer] = value instead\n",
      "\n",
      "See the caveats in the documentation: https://pandas.pydata.org/pandas-docs/stable/user_guide/indexing.html#returning-a-view-versus-a-copy\n",
      "  cluster_videos['distance'] = distances\n",
      "C:\\Users\\user\\AppData\\Local\\Temp\\ipykernel_4224\\2378131914.py:14: SettingWithCopyWarning: \n",
      "A value is trying to be set on a copy of a slice from a DataFrame.\n",
      "Try using .loc[row_indexer,col_indexer] = value instead\n",
      "\n",
      "See the caveats in the documentation: https://pandas.pydata.org/pandas-docs/stable/user_guide/indexing.html#returning-a-view-versus-a-copy\n",
      "  cluster_videos['distance'] = distances\n"
     ]
    }
   ],
   "source": [
    "input_tags = ['angry','friends']\n",
    "cluster_scores = recommend_clusters(input_tags, vectorizer, kmeans)\n",
    "recommended_videos = recommend_videos(df, cluster_scores, kmeans)\n",
    "\n",
    "# 추천된 영상 링크 출력\n",
    "for url in recommended_videos[:5]:  # 상위 5개 추천 영상 출력\n",
    "    print(url)\n"
   ]
  },
  {
   "cell_type": "code",
   "execution_count": null,
   "metadata": {},
   "outputs": [],
   "source": []
  }
 ],
 "metadata": {
  "kernelspec": {
   "display_name": "AI_2023",
   "language": "python",
   "name": "python3"
  },
  "language_info": {
   "codemirror_mode": {
    "name": "ipython",
    "version": 3
   },
   "file_extension": ".py",
   "mimetype": "text/x-python",
   "name": "python",
   "nbconvert_exporter": "python",
   "pygments_lexer": "ipython3",
   "version": "3.9.18"
  }
 },
 "nbformat": 4,
 "nbformat_minor": 2
}
